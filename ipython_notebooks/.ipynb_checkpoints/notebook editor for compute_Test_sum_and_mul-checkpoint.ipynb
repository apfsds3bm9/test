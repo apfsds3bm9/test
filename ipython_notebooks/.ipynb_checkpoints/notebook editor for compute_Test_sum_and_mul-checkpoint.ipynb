{
  "nbformat": 4,
  "nbformat_minor": 0,
  "metadata": {
    "kernelspec": {
      "display_name": "Python in CPU-M-1-cpu-4Gb-Ram (env time_series)",
      "language": "python",
      "name": "py-dku-containerized-venv-time_series-cpu-m-1-cpu-4gb-ram"
    },
    "associatedRecipe": "compute_Test_sum_and_mul",
    "dkuGit": {
      "lastInteraction": 0
    },
    "creationTag": {
      "versionNumber": 0,
      "lastModifiedBy": {
        "login": "thinhprovc666@gmail.com"
      },
      "lastModifiedOn": 1730165716680,
      "extendedProperties": {}
    },
    "creator": "thinhprovc666@gmail.com",
    "createdOn": 1730165716680,
    "tags": [
      "recipe-editor"
    ],
    "customFields": {}
  },
  "cells": [
    {
      "cell_type": "code",
      "metadata": {},
      "outputs": [],
      "execution_count": 0,
      "source": [
        "# -*- coding: utf-8 -*-\n",
        "import dataiku\n",
        "import pandas as pd, numpy as np\n",
        "from dataiku import pandasutils as pdu\n",
        "\n",
        "# Read recipe inputs\n",
        "norway_new_car_sales_by_make_filtered_1_prepared \u003d dataiku.Dataset(\"norway_new_car_sales_by_make_filtered_1_prepared\")\n",
        "norway_new_car_sales_by_make_filtered_1_prepared_df \u003d norway_new_car_sales_by_make_filtered_1_prepared.get_dataframe()\n",
        "\n",
        "\n",
        "# Compute recipe outputs from inputs\n",
        "# TODO: Replace this part by your actual code that computes the output, as a Pandas dataframe\n",
        "# NB: DSS also supports other kinds of APIs for reading and writing data. Please see doc.\n",
        "\n",
        "Test_sum_and_mul_df \u003d norway_new_car_sales_by_make_filtered_1_prepared_df # For this sample code, simply copy input to output\n",
        "Test_sum_and_mul_df.Year.dtype()"
      ]
    },
    {
      "cell_type": "code",
      "metadata": {},
      "outputs": [],
      "execution_count": 0,
      "source": [
        "sum_int \u003d int(dataiku.get_custom_variables()[\"sum\"])\n",
        "mul_int \u003d int(dataiku.get_custom_variables()[\"mul\"])\n",
        "Test_sum_and_mul_df[\"sum_Year\"] \u003d Test_sum_and_mul_df[\"Year\"] + sum_int\n",
        "Test_sum_and_mul_df[\"mul_Year\"] \u003d Test_sum_and_mul_df[\"Year\"] * mul_int"
      ]
    },
    {
      "cell_type": "code",
      "metadata": {},
      "outputs": [],
      "execution_count": 0,
      "source": [
        "# Write recipe outputs\n",
        "Test_sum_and_mul \u003d dataiku.Dataset(\"Test_sum_and_mul\")\n",
        "Test_sum_and_mul.write_with_schema(Test_sum_and_mul_df)"
      ]
    }
  ]
}