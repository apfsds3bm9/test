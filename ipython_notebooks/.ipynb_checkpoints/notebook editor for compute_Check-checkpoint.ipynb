{
  "nbformat": 4,
  "nbformat_minor": 0,
  "metadata": {
    "kernelspec": {
      "display_name": "Python 3",
      "language": "python",
      "name": "python3"
    },
    "associatedRecipe": "compute_Check",
    "creator": "admin",
    "createdOn": 1728287962769,
    "tags": [
      "recipe-editor"
    ],
    "customFields": {}
  },
  "cells": [
    {
      "cell_type": "code",
      "metadata": {},
      "outputs": [],
      "execution_count": 0,
      "source": [
        "# -*- coding: utf-8 -*-\n",
        "import dataiku\n",
        "import pandas as pd, numpy as np\n",
        "from dataiku import pandasutils as pdu\n",
        "\n",
        "# Read recipe inputs\n",
        "earnings_by_education \u003d dataiku.Dataset(\"earnings_by_education\")\n",
        "earnings_by_education_df \u003d earnings_by_education.get_dataframe()\n",
        "job_postings \u003d dataiku.Dataset(\"job_postings\")\n",
        "job_postings_df \u003d job_postings.get_dataframe()\n",
        "\n",
        "\n",
        "# Compute recipe outputs\n",
        "# TODO: Write here your actual code that computes the outputs\n",
        "# NB: DSS supports several kinds of APIs for reading and writing data. Please see doc.\n",
        "\n",
        "Check_df \u003d ... # Compute a Pandas dataframe to write into Check\n",
        "\n",
        "\n",
        "# Write recipe outputs\n",
        "Check \u003d dataiku.Dataset(\"Check\")\n",
        "Check.write_with_schema(Check_df)"
      ]
    }
  ]
}