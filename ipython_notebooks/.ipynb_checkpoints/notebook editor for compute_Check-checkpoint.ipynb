{
  "nbformat": 4,
  "nbformat_minor": 0,
  "metadata": {
    "kernelspec": {
      "display_name": "Python (env MyEnv)",
      "language": "python",
      "name": "py-dku-venv-myenv"
    },
    "associatedRecipe": "compute_Check",
    "creator": "thinhprovc202@gmail.com",
    "createdOn": 1728583175202,
    "tags": [
      "recipe-editor"
    ],
    "customFields": {}
  },
  "cells": [
    {
      "cell_type": "code",
      "metadata": {},
      "outputs": [],
      "execution_count": 0,
      "source": [
        "# -*- coding: utf-8 -*-\n",
        "import dataiku\n",
        "from dataiku import spark as dkuspark\n",
        "from pyspark import SparkContext\n",
        "from pyspark.sql import SQLContext\n",
        "\n",
        "sc \u003d SparkContext.getOrCreate()\n",
        "sqlContext \u003d SQLContext(sc)\n",
        "\n",
        "# Read recipe inputs\n",
        "norway_new_car_sales_by_make \u003d dataiku.Dataset(\"norway_new_car_sales_by_make\")\n",
        "norway_new_car_sales_by_make_df \u003d dkuspark.get_dataframe(sqlContext, norway_new_car_sales_by_make)\n",
        "\n",
        "# Compute recipe outputs from inputs\n",
        "# TODO: Replace this part by your actual code that computes the output, as a SparkSQL dataframe\n",
        "Check_df \u003d norway_new_car_sales_by_make_df # For this sample code, simply copy input to output\n",
        "\n",
        "# Write recipe outputs\n",
        "Check \u003d dataiku.Dataset(\"Check\")\n",
        "dkuspark.write_with_schema(Check, Check_df)"
      ]
    }
  ]
}