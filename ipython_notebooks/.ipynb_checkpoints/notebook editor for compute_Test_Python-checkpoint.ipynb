{
  "nbformat": 4,
  "nbformat_minor": 0,
  "metadata": {
    "kernelspec": {
      "display_name": "Python in CPU-M-1-cpu-4Gb-Ram (env MyEnv)",
      "language": "python",
      "name": "py-dku-containerized-venv-myenv-cpu-m-1-cpu-4gb-ram"
    },
    "associatedRecipe": "compute_Test_Python",
    "dkuGit": {
      "lastInteraction": 0
    },
    "creationTag": {
      "versionNumber": 0,
      "lastModifiedBy": {
        "login": "thinhprovc202@gmail.com"
      },
      "lastModifiedOn": 1728615782279,
      "extendedProperties": {}
    },
    "creator": "thinhprovc202@gmail.com",
    "createdOn": 1728615782279,
    "tags": [
      "recipe-editor"
    ],
    "customFields": {}
  },
  "cells": [
    {
      "cell_type": "code",
      "metadata": {},
      "outputs": [],
      "execution_count": 0,
      "source": [
        "# -*- coding: utf-8 -*-\n",
        "import dataiku\n",
        "import pandas as pd, numpy as np\n",
        "from dataiku import pandasutils as pdu\n",
        "\n",
        "# Read recipe inputs\n",
        "#norway_new_car_sales_by_make_filtered_2 \u003d dataiku.Dataset(\"norway_new_car_sales_by_make_filtered_2\")\n",
        "#norway_new_car_sales_by_make_filtered_2_df \u003d norway_new_car_sales_by_make_filtered_2.get_dataframe()\n",
        "\n",
        "\n",
        "import dataiku\n",
        "\n",
        "# Read the input dataset\n",
        "mydataset \u003d dataiku.Dataset(\"norway_new_car_sales_by_make_filtered_2\")\n",
        "myoutputdataset \u003d dataiku.Dataset(\"Test_Python\")\n",
        "\n",
        "df \u003d mydataset.get_dataframe()\n",
        "\n",
        "# Kiểm tra schema của dataframe\n",
        "print(\"DataFrame Schema:\")\n",
        "print(df.dtypes)\n",
        "\n",
        "# Kiểm tra schema của dataset đầu ra\n",
        "myoutputdataset.write_schema_from_dataframe(df)\n",
        "\n",
        "with myoutputdataset.get_writer() as writer:\n",
        "    writer.write_dataframe(df)"
      ]
    }
  ]
}