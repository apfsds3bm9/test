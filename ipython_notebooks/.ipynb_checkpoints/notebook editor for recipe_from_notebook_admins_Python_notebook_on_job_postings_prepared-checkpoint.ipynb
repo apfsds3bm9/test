{
  "nbformat": 4,
  "nbformat_minor": 0,
  "metadata": {
    "kernelspec": {
      "display_name": "Python in CPU-M-1-cpu-4Gb-Ram (builtin env)",
      "language": "python",
      "name": "py-dku-containerized-venv--cpu-m-1-cpu-4gb-ram"
    },
    "associatedRecipe": "recipe_from_notebook_admins_Python_notebook_on_job_postings_prepared",
    "creator": "thinhprovc202@gmail.com",
    "createdOn": 1728442485168,
    "tags": [
      "recipe-editor"
    ],
    "customFields": {}
  },
  "cells": [
    {
      "cell_type": "code",
      "metadata": {},
      "outputs": [],
      "execution_count": 0,
      "source": [
        "%pylab inline"
      ]
    },
    {
      "cell_type": "code",
      "metadata": {},
      "outputs": [],
      "execution_count": 0,
      "source": [
        "import dataiku\n",
        "from dataiku import pandasutils as pdu\n",
        "import pandas as pd"
      ]
    },
    {
      "cell_type": "code",
      "metadata": {},
      "outputs": [],
      "execution_count": 0,
      "source": [
        "# Read the dataset as a Pandas dataframe in memory\n",
        "# Note: here, we only read the first 100K rows. Other sampling options are available\n",
        "dataset_job_postings_prepared \u003d dataiku.Dataset(\"job_postings_prepared\")\n",
        "df \u003d dataset_job_postings_prepared.get_dataframe(limit\u003d100000)"
      ]
    },
    {
      "cell_type": "code",
      "metadata": {},
      "outputs": [],
      "execution_count": 0,
      "source": [
        "# Define a function to extract the minimum salary\n",
        "def extract_min_salary(salary_range):\n",
        "    if pd.isna(salary_range):  # Keep missing values as missing\n",
        "        return None\n",
        "    try:\n",
        "        min_salary \u003d int(salary_range.split(\u0027-\u0027)[0])  # Extract minimum salary\n",
        "        return min_salary\n",
        "    except:\n",
        "        return None  # Handle invalid values\n",
        "\n",
        "# Apply the function and convert to integer type\n",
        "df[\u0027min_salary\u0027] \u003d df[\u0027salary_range\u0027].apply(extract_min_salary).astype(\u0027Int64\u0027)"
      ]
    },
    {
      "cell_type": "code",
      "metadata": {},
      "outputs": [],
      "execution_count": 0,
      "source": [
        "# Recipe outputs\n",
        "job_postings_python \u003d dataiku.Dataset(\"job_postings_python\")\n",
        "job_postings_python.write_with_schema(df)"
      ]
    }
  ]
}