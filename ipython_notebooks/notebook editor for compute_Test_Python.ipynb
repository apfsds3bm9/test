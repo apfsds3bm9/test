{
  "metadata": {
    "kernelspec": {
      "name": "py-dku-venv-myenv",
      "display_name": "Python (env MyEnv)",
      "language": "python"
    },
    "hide_input": false,
    "language_info": {
      "name": "python",
      "version": "3.10.15",
      "mimetype": "text/x-python",
      "codemirror_mode": {
        "name": "ipython",
        "version": 3
      },
      "pygments_lexer": "ipython3",
      "nbconvert_exporter": "python",
      "file_extension": ".py"
    },
    "creationTag": {
      "versionNumber": 0,
      "lastModifiedBy": {
        "login": "thinhprovc202@gmail.com"
      },
      "lastModifiedOn": 1728615782279,
      "extendedProperties": {}
    },
    "dkuGit": {
      "lastInteraction": 0
    },
    "tags": [
      "recipe-editor"
    ],
    "customFields": {},
    "creator": "thinhprovc202@gmail.com",
    "createdOn": 1728615782279,
    "modifiedBy": "thinhprovc202@gmail.com",
    "associatedRecipe": "compute_Test_Python"
  },
  "nbformat": 4,
  "nbformat_minor": 1,
  "cells": [
    {
      "execution_count": 0,
      "cell_type": "code",
      "metadata": {},
      "source": [
        "# -*- coding: utf-8 -*-\nimport dataiku\nimport pandas as pd, numpy as np\nfrom dataiku import pandasutils as pdu\n\n# Read recipe inputs\n#norway_new_car_sales_by_make_filtered_2 \u003d dataiku.Dataset(\"norway_new_car_sales_by_make_filtered_2\")\n#norway_new_car_sales_by_make_filtered_2_df \u003d norway_new_car_sales_by_make_filtered_2.get_dataframe()\n"
      ],
      "outputs": []
    },
    {
      "execution_count": 0,
      "cell_type": "code",
      "metadata": {},
      "source": [
        "import dataiku\n\n# Read the input dataset\nmydataset \u003d dataiku.Dataset(\"norway_new_car_sales_by_make_filtered_2\")\nmyoutputdataset \u003d dataiku.Dataset(\"Test_Python\")\n\n\n\n# Initialize writer for output dataset\nwith myoutputdataset.get_writer() as writer:\n    # Loop through each partition from the input dataset\n    for p in mydataset.list_partitions():\n        # Set partition to read from\n        mydataset.read_partitions \u003d [p]\n\n        # Get dataframe for the current partition\n        df \u003d mydataset.get_dataframe()\n        # Kiểm tra schema của dataframe\n        print(\"DataFrame Schema:\")\n        print(df.dtypes)\n        print(df.shape)\n        # Set partition to write to in the output dataset\n        myoutputdataset.set_write_partition(str(p))\n\n        # Write dataframe to the corresponding partition\n        writer.write_dataframe(df)\n\n    # Close the writer after all partitions are written\n    writer.close()"
      ],
      "outputs": []
    },
    {
      "execution_count": 0,
      "cell_type": "code",
      "metadata": {},
      "source": [
        "mydataset.list_partitions()"
      ],
      "outputs": []
    },
    {
      "execution_count": 0,
      "cell_type": "code",
      "metadata": {},
      "source": [
        "mydataset.read_partitions \u003d [\u0027NP\u0027]\ndf \u003d mydataset.get_dataframe()\ndf"
      ],
      "outputs": []
    },
    {
      "execution_count": 0,
      "cell_type": "code",
      "metadata": {},
      "source": [
        "myoutputdataset.set_write_partition(str(\u0027NP\u0027))"
      ],
      "outputs": []
    },
    {
      "execution_count": 0,
      "cell_type": "code",
      "metadata": {},
      "source": [
        "writer.write_with_schema(df)"
      ],
      "outputs": []
    },
    {
      "execution_count": 0,
      "cell_type": "code",
      "metadata": {},
      "source": [
        ""
      ],
      "outputs": []
    }
  ]
}