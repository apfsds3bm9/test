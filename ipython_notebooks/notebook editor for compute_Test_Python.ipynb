{
  "nbformat": 4,
  "nbformat_minor": 0,
  "metadata": {
    "kernelspec": {
      "display_name": "Python in CPU-M-1-cpu-4Gb-Ram (env MyEnv)",
      "language": "python",
      "name": "py-dku-containerized-venv-myenv-cpu-m-1-cpu-4gb-ram"
    },
    "associatedRecipe": "compute_Test_Python",
    "creator": "thinhprovc202@gmail.com",
    "createdOn": 1728615782279,
    "tags": [
      "recipe-editor"
    ],
    "customFields": {}
  },
  "cells": [
    {
      "cell_type": "code",
      "metadata": {},
      "outputs": [],
      "execution_count": 0,
      "source": [
        "# -*- coding: utf-8 -*-\n",
        "import dataiku\n",
        "import pandas as pd, numpy as np\n",
        "from dataiku import pandasutils as pdu\n",
        "\n",
        "# Read recipe inputs\n",
        "#norway_new_car_sales_by_make_filtered_2 \u003d dataiku.Dataset(\"norway_new_car_sales_by_make_filtered_2\")\n",
        "#norway_new_car_sales_by_make_filtered_2_df \u003d norway_new_car_sales_by_make_filtered_2.get_dataframe()\n",
        "\n",
        "\n",
        "import dataiku\n",
        "\n",
        "# Read the input dataset\n",
        "mydataset \u003d dataiku.Dataset(\"norway_new_car_sales_by_make_filtered_2\")\n",
        "myoutputdataset \u003d dataiku.Dataset(\"norway_new_car_sales_by_make_partitioned\")\n",
        "\n",
        "# Initialize writer for output dataset\n",
        "with myoutputdataset.get_writer() as writer:\n",
        "    # Loop through each partition from the input dataset\n",
        "    for p in mydataset.list_partitions():\n",
        "        # Set partition to read from\n",
        "        mydataset.read_partitions \u003d [p]\n",
        "\n",
        "        # Get dataframe for the current partition\n",
        "        df \u003d mydataset.get_dataframe()\n",
        "\n",
        "        # Set partition to write to in the output dataset\n",
        "        myoutputdataset.set_write_partition(str(p))\n",
        "\n",
        "        # Write dataframe to the corresponding partition\n",
        "        writer.write_dataframe(df)\n",
        "\n",
        "    # Close the writer after all partitions are written\n",
        "    writer.close()"
      ]
    }
  ]
}