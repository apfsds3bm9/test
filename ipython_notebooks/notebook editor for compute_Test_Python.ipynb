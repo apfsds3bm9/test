{
  "metadata": {
    "kernelspec": {
      "name": "py-dku-venv-myenv",
      "display_name": "Python (env MyEnv)",
      "language": "python"
    },
    "hide_input": false,
    "language_info": {
      "name": "python",
      "version": "3.10.15",
      "mimetype": "text/x-python",
      "codemirror_mode": {
        "name": "ipython",
        "version": 3
      },
      "pygments_lexer": "ipython3",
      "nbconvert_exporter": "python",
      "file_extension": ".py"
    },
    "creationTag": {
      "versionNumber": 0,
      "lastModifiedBy": {
        "login": "thinhprovc202@gmail.com"
      },
      "lastModifiedOn": 1728615782279,
      "extendedProperties": {}
    },
    "dkuGit": {
      "lastInteraction": 0
    },
    "tags": [
      "recipe-editor"
    ],
    "customFields": {},
    "creator": "thinhprovc202@gmail.com",
    "createdOn": 1728615782279,
    "modifiedBy": "thinhprovc202@gmail.com",
    "associatedRecipe": "compute_Test_Python"
  },
  "nbformat": 4,
  "nbformat_minor": 1,
  "cells": [
    {
      "execution_count": 0,
      "cell_type": "code",
      "metadata": {},
      "source": [
        "# -*- coding: utf-8 -*-\nimport dataiku\nimport pandas as pd, numpy as np\nfrom dataiku import pandasutils as pdu\n\n# Read recipe inputs\n#norway_new_car_sales_by_make_filtered_2 \u003d dataiku.Dataset(\"norway_new_car_sales_by_make_filtered_2\")\n#norway_new_car_sales_by_make_filtered_2_df \u003d norway_new_car_sales_by_make_filtered_2.get_dataframe()\n\n\nimport dataiku\n\n# Read the input dataset\nmydataset \u003d dataiku.Dataset(\"norway_new_car_sales_by_make_filtered_2\")\nmyoutputdataset \u003d dataiku.Dataset(\"Test_Python\")\n\ndf \u003d mydataset.get_dataframe()\n\n# Kiểm tra schema của dataframe\nprint(\"DataFrame Schema:\")\nprint(df.dtypes)\n\n# Kiểm tra schema của dataset đầu ra\nmyoutputdataset.write_schema_from_dataframe(df)\n\nwith myoutputdataset.get_writer() as writer:\n    writer.write_dataframe(df)"
      ],
      "outputs": []
    },
    {
      "execution_count": 0,
      "cell_type": "code",
      "metadata": {},
      "source": [
        "import dataiku\n\n# Read the input dataset\nmydataset \u003d dataiku.Dataset(\"norway_new_car_sales_by_make_filtered_2\")\nmyoutputdataset \u003d dataiku.Dataset(\"Test_Python\")\n\ndf \u003d mydataset.get_dataframe()\n\n# Lấy danh sách các giá trị duy nhất của cột \u0027year\u0027\nunique_makes \u003d df[\u0027Make\u0027].dropna().unique()\n\n# Chuyển tất cả các giá trị trong \u0027Make\u0027 thành chuỗi ký tự\nunique_makes_str \u003d [str(make) for make in unique_makes]\n\n# Set danh sách này làm biến trong scenario\nscenario_variables \u003d {\"makes_list\":unique_makes_str}"
      ],
      "outputs": []
    },
    {
      "execution_count": 0,
      "cell_type": "code",
      "metadata": {},
      "source": [
        "scenario_variables"
      ],
      "outputs": []
    },
    {
      "execution_count": 0,
      "cell_type": "code",
      "metadata": {},
      "source": [
        ""
      ],
      "outputs": []
    }
  ]
}