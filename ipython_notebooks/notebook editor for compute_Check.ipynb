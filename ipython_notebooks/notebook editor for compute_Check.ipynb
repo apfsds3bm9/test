{
  "metadata": {
    "kernelspec": {
      "name": "py-dku-venv-myenv",
      "display_name": "Python (env MyEnv)",
      "language": "python"
    },
    "hide_input": false,
    "language_info": {
      "name": "python",
      "version": "3.10.15",
      "mimetype": "text/x-python",
      "codemirror_mode": {
        "name": "ipython",
        "version": 3
      },
      "pygments_lexer": "ipython3",
      "nbconvert_exporter": "python",
      "file_extension": ".py"
    },
    "tags": [
      "recipe-editor"
    ],
    "customFields": {},
    "creator": "thinhprovc202@gmail.com",
    "createdOn": 1728583175202,
    "modifiedBy": "thinhprovc202@gmail.com",
    "associatedRecipe": "compute_Check"
  },
  "nbformat": 4,
  "nbformat_minor": 1,
  "cells": [
    {
      "execution_count": 0,
      "cell_type": "code",
      "metadata": {},
      "source": [
        "# -*- coding: utf-8 -*-\nimport dataiku\nfrom dataiku import spark as dkuspark\nfrom pyspark import SparkContext\nfrom pyspark.sql import SQLContext\n\nsc \u003d SparkContext()\nsqlContext \u003d SQLContext(sc)\n# Read recipe inputs\nnorway_new_car_sales_by_make \u003d dataiku.Dataset(\"norway_new_car_sales_by_make\")\nnorway_new_car_sales_by_make_df \u003d dkuspark.get_dataframe(sqlContext, norway_new_car_sales_by_make)\n\n# Compute recipe outputs from inputs\n# TODO: Replace this part by your actual code that computes the output, as a SparkSQL dataframe\n#Check_df \u003d norway_new_car_sales_by_make_df # For this sample code, simply copy input to output\n\n# Write recipe outputs\n#Check \u003d dataiku.Dataset(\"Check\")\n#dkuspark.write_with_schema(Check, Check_df)"
      ],
      "outputs": []
    },
    {
      "execution_count": 0,
      "cell_type": "code",
      "metadata": {},
      "source": [
        "norway_new_car_sales_by_make"
      ],
      "outputs": []
    },
    {
      "execution_count": 0,
      "cell_type": "code",
      "metadata": {},
      "source": [
        ""
      ],
      "outputs": []
    }
  ]
}