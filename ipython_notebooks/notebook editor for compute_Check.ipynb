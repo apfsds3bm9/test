{
  "metadata": {
    "kernelspec": {
      "name": "py-dku-venv-time_series",
      "display_name": "Python (env time_series)",
      "language": "python"
    },
    "hide_input": false,
    "language_info": {
      "name": "python",
      "version": "3.9.19",
      "mimetype": "text/x-python",
      "codemirror_mode": {
        "name": "ipython",
        "version": 3
      },
      "pygments_lexer": "ipython3",
      "nbconvert_exporter": "python",
      "file_extension": ".py"
    },
    "creationTag": {
      "versionNumber": 0,
      "lastModifiedBy": {
        "login": "thinhprovc202@gmail.com"
      },
      "lastModifiedOn": 1728583175202,
      "extendedProperties": {}
    },
    "dkuGit": {
      "lastInteraction": 0
    },
    "tags": [
      "deleted-recipe-editor"
    ],
    "customFields": {},
    "creator": "thinhprovc202@gmail.com",
    "createdOn": 1728583175202,
    "modifiedBy": "thinhprovc202@gmail.com"
  },
  "nbformat": 4,
  "nbformat_minor": 1,
  "cells": [
    {
      "execution_count": 0,
      "cell_type": "code",
      "metadata": {},
      "source": [
        "# -*- coding: utf-8 -*-\nimport dataiku\nfrom dataiku import spark as dkuspark\nfrom pyspark import SparkContext\nfrom pyspark.sql import SQLContext\n\nsc \u003d SparkContext.getOrCreate()\nsqlContext \u003d SQLContext(sc)\n\n# Read recipe inputs\nnorway_new_car_sales_by_make \u003d dataiku.Dataset(\"norway_new_car_sales_by_make\")\nnorway_new_car_sales_by_make_df \u003d dkuspark.get_dataframe(sqlContext, norway_new_car_sales_by_make)\n\n# Compute recipe outputs from inputs\n# TODO: Replace this part by your actual code that computes the output, as a SparkSQL dataframe\nCheck_df \u003d norway_new_car_sales_by_make_df # For this sample code, simply copy input to output\n\n# Write recipe outputs\nCheck \u003d dataiku.Dataset(\"Check\")\ndkuspark.write_with_schema(Check, Check_df)"
      ],
      "outputs": []
    },
    {
      "execution_count": 0,
      "cell_type": "code",
      "metadata": {},
      "source": [
        "import dataiku\nfrom dataiku import spark as dkuspark\nfrom pyspark import SparkContext\nfrom pyspark.sql import SQLContext\n\nsc \u003d SparkContext.getOrCreate()\nsqlContext \u003d SQLContext(sc)"
      ],
      "outputs": []
    },
    {
      "execution_count": 0,
      "cell_type": "code",
      "metadata": {},
      "source": [
        "dataset \u003d dataiku.Dataset(\"norway_new_car_sales_by_make\")"
      ],
      "outputs": []
    },
    {
      "execution_count": 0,
      "cell_type": "code",
      "metadata": {},
      "source": [
        "df \u003d dkuspark.get_dataframe(sqlContext, dataset)"
      ],
      "outputs": []
    },
    {
      "execution_count": 0,
      "cell_type": "code",
      "metadata": {},
      "source": [
        ""
      ],
      "outputs": []
    }
  ]
}