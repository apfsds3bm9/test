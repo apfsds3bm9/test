{
  "metadata": {
    "kernelspec": {
      "name": "python3",
      "display_name": "Python 3",
      "language": "python"
    },
    "language_info": {
      "name": "python",
      "version": "3.7.13",
      "mimetype": "text/x-python",
      "codemirror_mode": {
        "name": "ipython",
        "version": 3
      },
      "pygments_lexer": "ipython3",
      "nbconvert_exporter": "python",
      "file_extension": ".py"
    },
    "createdOn": 1728287962769,
    "creator": "admin",
    "tags": [
      "recipe-editor"
    ],
    "customFields": {},
    "modifiedBy": "admin",
    "associatedRecipe": "compute_Check"
  },
  "nbformat": 4,
  "nbformat_minor": 1,
  "cells": [
    {
      "execution_count": 0,
      "cell_type": "code",
      "metadata": {},
      "source": [
        "# -*- coding: utf-8 -*-\nimport dataiku\nimport pandas as pd, numpy as np\nfrom dataiku import pandasutils as pdu\n\n# Read recipe inputs\nearnings_by_education \u003d dataiku.Dataset(\"earnings_by_education\")\nearnings_by_education_df \u003d earnings_by_education.get_dataframe()\njob_postings \u003d dataiku.Dataset(\"job_postings\")\njob_postings_df \u003d job_postings.get_dataframe()\n\n\n# Compute recipe outputs\n# TODO: Write here your actual code that computes the outputs\n# NB: DSS supports several kinds of APIs for reading and writing data. Please see doc.\n\nCheck_df \u003d ... # Compute a Pandas dataframe to write into Check\n\n\n# Write recipe outputs\nCheck \u003d dataiku.Dataset(\"Check\")\nCheck.write_with_schema(Check_df)"
      ],
      "outputs": []
    },
    {
      "execution_count": 0,
      "cell_type": "code",
      "metadata": {},
      "source": [
        "from dataiku.scenario import Scenario\n# Tạo đối tượng Scenario\nscenario \u003d Scenario()\ndataset_names \u003d [\"earnings_by_education\", \"job_postings\"]\n# Chạy dataset (có thể gắn với một recipe)\n# scenario.build_dataset(dataset_names[0])\n"
      ],
      "outputs": []
    },
    {
      "execution_count": 0,
      "cell_type": "code",
      "metadata": {},
      "source": [
        "import dataiku\nfrom dataiku import Dataset\nfrom dataiku.scenario import Scenario\n\n# Define the number of times you want to run the loop\nloop_iterations \u003d 5\n\n# Danh sách các dataset mà bạn muốn nạp\n# dataset_names \u003d [\"Online_Retail_I\", \"Online_Retail_II\"]  # Thêm tên các dataset khác nếu cần\n\n# Loop qua danh sách các dataset\nfor i, dataset_name in enumerate(dataset_names):\n    # Nạp từng dataset trong mỗi lần lặp\n    input_dataset \u003d Dataset(dataset_name)\n    df \u003d input_dataset.get_dataframe()\n\n    # Thực hiện các thay đổi trên DataFrame (df) nếu cần thiết\n    # Ví dụ: lọc dữ liệu hoặc thực hiện thao tác khác\n\n    # Ghi lại dữ liệu đã được thay đổi\n    input_dataset.write_with_schema(df)\n\n    # Chạy visual recipe cho mỗi dataset\n    # Sử dụng build_dataset để xây dựng dataset từ visual recipe hoặc bất kỳ hành động nào phù hợp\n    Scenario().build_dataset(dataset_name)\n\n    # In ra số lần lặp cho mục đích logging\n    print(f\"Completed iteration {i+1}/{len(dataset_names)}: Processed dataset {dataset_name}\")\noutput_dataset \u003d Dataset(\"output_dataset_name\")\noutput_df \u003d output_dataset.get_dataframe()\nprint(output_df.head())  # Hiển thị kết quả đầu tiên của output"
      ],
      "outputs": []
    },
    {
      "execution_count": 0,
      "cell_type": "code",
      "metadata": {},
      "source": [
        "try:\n    # Kết nối với một dự án cụ thể trong DSS\n    project \u003d client.get_project(\"dkuaps-AyrLsXbEcoApwUhUP7RUQ0wsobvBeaVB\")  # Thay \"project_key\" bằng key của dự án bạn muốn kiểm tra\n\n    # Lấy danh sách dataset của dự án\n    datasets \u003d project.list_datasets()\n    print(f\"Dataset list: {datasets}\")\n\nexcept Exception as e:\n    print(f\"Permission check failed: {e}\")\n"
      ],
      "outputs": []
    },
    {
      "execution_count": 0,
      "cell_type": "code",
      "metadata": {},
      "source": [
        ""
      ],
      "outputs": []
    }
  ]
}