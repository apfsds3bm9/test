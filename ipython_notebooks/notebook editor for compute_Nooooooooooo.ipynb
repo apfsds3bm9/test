{
  "nbformat": 4,
  "nbformat_minor": 0,
  "metadata": {
    "kernelspec": {
      "display_name": "Python in CPU-M-1-cpu-4Gb-Ram (env MyEnv)",
      "language": "python",
      "name": "py-dku-containerized-venv-myenv-cpu-m-1-cpu-4gb-ram"
    },
    "associatedRecipe": "compute_Nooooooooooo",
    "creator": "thinhprovc202@gmail.com",
    "createdOn": 1728584454601,
    "tags": [
      "recipe-editor"
    ],
    "customFields": {}
  },
  "cells": [
    {
      "cell_type": "code",
      "metadata": {},
      "outputs": [],
      "execution_count": 0,
      "source": [
        "# -*- coding: utf-8 -*-\n",
        "import dataiku\n",
        "import pandas as pd, numpy as np\n",
        "from dataiku import pandasutils as pdu\n",
        "\n",
        "# Read recipe inputs\n",
        "norway_new_car_sales_by_make \u003d dataiku.Dataset(\"norway_new_car_sales_by_make\")\n",
        "norway_new_car_sales_by_make_df \u003d norway_new_car_sales_by_make.get_dataframe()\n",
        "\n",
        "\n",
        "# Compute recipe outputs from inputs\n",
        "# TODO: Replace this part by your actual code that computes the output, as a Pandas dataframe\n",
        "# NB: DSS also supports other kinds of APIs for reading and writing data. Please see doc.\n",
        "\n",
        "Nooooooooooo_df \u003d norway_new_car_sales_by_make_df # For this sample code, simply copy input to output\n",
        "\n",
        "\n",
        "# Write recipe outputs\n",
        "Nooooooooooo \u003d dataiku.Dataset(\"Nooooooooooo\")\n",
        "Nooooooooooo.write_with_schema(Nooooooooooo_df)"
      ]
    }
  ]
}