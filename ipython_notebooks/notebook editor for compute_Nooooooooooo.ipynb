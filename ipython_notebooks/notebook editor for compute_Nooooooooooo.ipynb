{
  "metadata": {
    "kernelspec": {
      "name": "py-dku-venv-myenv",
      "display_name": "Python (env MyEnv)",
      "language": "python"
    },
    "hide_input": false,
    "language_info": {
      "name": "python",
      "version": "3.10.15",
      "mimetype": "text/x-python",
      "codemirror_mode": {
        "name": "ipython",
        "version": 3
      },
      "pygments_lexer": "ipython3",
      "nbconvert_exporter": "python",
      "file_extension": ".py"
    },
    "tags": [
      "deleted-recipe-editor"
    ],
    "customFields": {},
    "creator": "thinhprovc202@gmail.com",
    "createdOn": 1728584454601,
    "modifiedBy": "thinhprovc202@gmail.com"
  },
  "nbformat": 4,
  "nbformat_minor": 1,
  "cells": [
    {
      "execution_count": 0,
      "cell_type": "code",
      "metadata": {},
      "source": [
        "# -*- coding: utf-8 -*-\nimport dataiku\nimport pandas as pd, numpy as np\nfrom dataiku import pandasutils as pdu\n\n# Read recipe inputs\nnorway_new_car_sales_by_make \u003d dataiku.Dataset(\"norway_new_car_sales_by_make\")\nnorway_new_car_sales_by_make_df \u003d norway_new_car_sales_by_make.get_dataframe()\n\n\n# Compute recipe outputs from inputs\n# TODO: Replace this part by your actual code that computes the output, as a Pandas dataframe\n# NB: DSS also supports other kinds of APIs for reading and writing data. Please see doc.\n\nNooooooooooo_df \u003d norway_new_car_sales_by_make_df # For this sample code, simply copy input to output\n\n\n# Write recipe outputs\nNooooooooooo \u003d dataiku.Dataset(\"Nooooooooooo\")\nNooooooooooo.write_with_schema(Nooooooooooo_df)"
      ],
      "outputs": []
    },
    {
      "execution_count": 0,
      "cell_type": "code",
      "metadata": {},
      "source": [
        "import dataiku\nimport pandas as pd\n\n# Read the input dataset\nnorway_new_car_sales_by_make \u003d dataiku.Dataset(\"norway_new_car_sales_by_make\")\ndf \u003d norway_new_car_sales_by_make.get_dataframe()\n\n# Filter for 2009 and 2010\ndf_2009 \u003d df[df[\u0027Year\u0027] \u003d\u003d 2009]\ndf_2010 \u003d df[df[\u0027Year\u0027] \u003d\u003d 2010]\n\n# Write the output datasets with partitioning\noutput_2009 \u003d dataiku.Dataset(\"Nooooooooooo_2009\")\noutput_2010 \u003d dataiku.Dataset(\"Nooooooooooo_2010\")\n\n# Save with partitioning\noutput_2009.write_with_schema(df_2009, partitioning\u003d{\"Year\": 2009})\noutput_2010.write_with_schema(df_2010, partitioning\u003d{\"Year\": 2010})\n"
      ],
      "outputs": []
    },
    {
      "execution_count": 0,
      "cell_type": "code",
      "metadata": {},
      "source": [
        ""
      ],
      "outputs": []
    }
  ]
}