{
  "metadata": {
    "kernelspec": {
      "name": "py-dku-containerized-venv-time_series-cpu-m-1-cpu-4gb-ram",
      "display_name": "Python in CPU-M-1-cpu-4Gb-Ram (env time_series)",
      "language": "python"
    },
    "hide_input": false,
    "language_info": {
      "name": "python",
      "version": "3.9.19",
      "mimetype": "text/x-python",
      "codemirror_mode": {
        "name": "ipython",
        "version": 3
      },
      "pygments_lexer": "ipython3",
      "nbconvert_exporter": "python",
      "file_extension": ".py"
    },
    "customFields": {},
    "associatedRecipe": "compute_Test_sum_and_mul",
    "createdOn": 1730165716680,
    "dkuGit": {
      "lastInteraction": 0
    },
    "tags": [
      "recipe-editor"
    ],
    "creationTag": {
      "versionNumber": 0,
      "lastModifiedBy": {
        "login": "thinhprovc666@gmail.com"
      },
      "lastModifiedOn": 1730165716680,
      "extendedProperties": {}
    },
    "creator": "thinhprovc666@gmail.com",
    "modifiedBy": "thinhprovc666@gmail.com"
  },
  "nbformat": 4,
  "nbformat_minor": 1,
  "cells": [
    {
      "execution_count": 0,
      "cell_type": "code",
      "metadata": {},
      "source": [
        "# -*- coding: utf-8 -*-\nimport dataiku\nimport pandas as pd, numpy as np\nfrom dataiku import pandasutils as pdu\n\n# Read recipe inputs\nnorway_new_car_sales_by_make_filtered_1_prepared \u003d dataiku.Dataset(\"norway_new_car_sales_by_make_filtered_1_prepared\")\nnorway_new_car_sales_by_make_filtered_1_prepared_df \u003d norway_new_car_sales_by_make_filtered_1_prepared.get_dataframe()\n\n\n# Compute recipe outputs from inputs\n# TODO: Replace this part by your actual code that computes the output, as a Pandas dataframe\n# NB: DSS also supports other kinds of APIs for reading and writing data. Please see doc.\n\nTest_sum_and_mul_df \u003d norway_new_car_sales_by_make_filtered_1_prepared_df.drop(columns \u003d \"PhanVung\", axis \u003d 1) # For this sample code, simply copy input to output\nTest_sum_and_mul_df.head()"
      ],
      "outputs": []
    },
    {
      "execution_count": 0,
      "cell_type": "code",
      "metadata": {},
      "source": [
        "sum_int \u003d int(dataiku.get_custom_variables()[\"sum\"])\nmul_int \u003d int(dataiku.get_custom_variables()[\"mul\"])\n\n# Tính toán trực tiếp mà không cần vòng lặp hoặc các bước trung gian\nTest_sum_and_mul_df[\"sum_AB\"] \u003d sum_int + mul_int\n# Write recipe outputs\nTest_sum_and_mul \u003d dataiku.Dataset(\"Test_sum_and_mul\")\nTest_sum_and_mul.write_with_schema(Test_sum_and_mul_df)"
      ],
      "outputs": []
    },
    {
      "execution_count": 0,
      "cell_type": "code",
      "metadata": {},
      "source": [
        ""
      ],
      "outputs": []
    }
  ]
}